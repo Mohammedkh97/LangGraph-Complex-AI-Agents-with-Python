{
 "cells": [
  {
   "cell_type": "markdown",
   "id": "812e0875",
   "metadata": {},
   "source": [
    "# Type Annotations"
   ]
  },
  {
   "cell_type": "markdown",
   "id": "7fb27e27",
   "metadata": {},
   "source": [
    "#### **1. Dictionary**\n",
    "- Normal Python Dictionary:"
   ]
  },
  {
   "cell_type": "code",
   "execution_count": 7,
   "id": "4c007337",
   "metadata": {},
   "outputs": [
    {
     "name": "stdout",
     "output_type": "stream",
     "text": [
      "{'name': 'Angry Birds', 'year': 2009, 'genre': 'Action', 'rating': 7.5}\n",
      "<class 'dict'>\n"
     ]
    }
   ],
   "source": [
    "movie = {\"name\":\"Angry Birds\",\n",
    "         \"year\":2009,\n",
    "         \"genre\":\"Action\",\n",
    "         \"rating\":7.5\n",
    "        }\n",
    "print(movie)\n",
    "print(type(movie))"
   ]
  },
  {
   "cell_type": "markdown",
   "id": "cfaee858",
   "metadata": {},
   "source": [
    "* Properities:\n",
    "  1. Allows for efficient data retrieval based on unique keys\n",
    "  2. Flexible and easy to implement\n",
    "  3. **Leads to challenges in ensuring that the data is a particular structure espicially for large projects**\n",
    "  4. Doesn't check if the data is the correct type or structure\n",
    "\n",
    "HOW TO SOLVE THIS ?!!"
   ]
  },
  {
   "cell_type": "markdown",
   "id": "dec83e78",
   "metadata": {},
   "source": [
    "To Solve the Problem of the normal dictionary, we can use:\n",
    "* Typed Dictionary\n",
    "  - This type annotation is used extensively in LangGraph, which will be used to states when creating Agents"
   ]
  },
  {
   "cell_type": "code",
   "execution_count": 6,
   "id": "b056c1c4",
   "metadata": {},
   "outputs": [
    {
     "name": "stdout",
     "output_type": "stream",
     "text": [
      "<class 'dict'>\n"
     ]
    }
   ],
   "source": [
    "from typing import TypedDict\n",
    "\n",
    "class Movie(TypedDict):\n",
    "    title: str\n",
    "    year: int\n",
    "    genre: str\n",
    "    rating: float\n",
    "\n",
    "# Create an instance of the Movie class\n",
    "movie = Movie(title=\"The Shawshank Redemption\", year=1994, genre=\"Drama\", rating=9.3)\n",
    "\n",
    "print(type(movie))"
   ]
  },
  {
   "cell_type": "markdown",
   "id": "100937b2",
   "metadata": {},
   "source": [
    "* Properities:\n",
    "  * Typed Safety: We defined explicitly what the data strucutres are, reducing runtime errors.\n",
    "  * Type Inference: We don't need to specify the types of the variables, the compiler can infer them.\n",
    "  * Type Checking: We can check the types of the variables at compile time, reducing \n",
    "  * Enhanced Readability: Makes debugging easier and makes the code more structured and understandable."
   ]
  },
  {
   "cell_type": "markdown",
   "id": "be605c84",
   "metadata": {},
   "source": [
    "### **2. Union**"
   ]
  },
  {
   "cell_type": "code",
   "execution_count": 11,
   "id": "da40bdf9",
   "metadata": {},
   "outputs": [
    {
     "name": "stdout",
     "output_type": "stream",
     "text": [
      "25\n",
      "1.5625\n",
      "1\n"
     ]
    }
   ],
   "source": [
    "from typing import Union\n",
    "\n",
    "def square(x: Union[int, float]) -> Union[int, float]:\n",
    "    return x ** 2\n",
    "\n",
    "x = 5  # this works fine as x is an int\n",
    "print(square(x))\n",
    "x = 1.25  # this works fine as x is a float\n",
    "print(square(x))\n",
    "x = \"Hello\"  # this will raise an error as x is a string\n",
    "# print(square(x))\n",
    "x = True  # this works fine as x is a bool\n",
    "print(square(x))"
   ]
  },
  {
   "cell_type": "markdown",
   "id": "62c24a44",
   "metadata": {},
   "source": [
    "* Properities:\n",
    "  * Union lets you say that a value can be more than one type\n",
    "  * Flexible and easy to use and code\n",
    "  * Typed Safety: as it can provide hints to help catch incorrect usage"
   ]
  },
  {
   "cell_type": "markdown",
   "id": "ff9f1698",
   "metadata": {},
   "source": [
    "### **3. Optional:**"
   ]
  },
  {
   "cell_type": "code",
   "execution_count": 12,
   "id": "6f31ead4",
   "metadata": {},
   "outputs": [
    {
     "name": "stdout",
     "output_type": "stream",
     "text": [
      "Hey, Joe!\n",
      "Hey, Random Person!\n"
     ]
    }
   ],
   "source": [
    "from typing import Optional\n",
    "\n",
    "def message(name: Optional[str]) -> None:\n",
    "    if name is None:\n",
    "        print(\"Hey, Random Person!\")\n",
    "    else:\n",
    "        print(f\"Hey, {name}!\")\n",
    "\n",
    "message(\"Joe\")\n",
    "message(None)"
   ]
  },
  {
   "cell_type": "code",
   "execution_count": 17,
   "id": "c9749452",
   "metadata": {},
   "outputs": [
    {
     "name": "stdout",
     "output_type": "stream",
     "text": [
      "Hello, Guest!\n",
      "Hello, Alice!\n",
      "john_doe None\n",
      "jane_doe jane@example.com\n"
     ]
    }
   ],
   "source": [
    "from typing import Optional\n",
    "\n",
    "\n",
    "# Example 1: Function with Optional parameter\n",
    "def greet(name: Optional[str] = None) -> str:\n",
    "    if name is None:\n",
    "        return \"Hello, Guest!\"\n",
    "    return f\"Hello, {name}!\"\n",
    "\n",
    "\n",
    "# Example 2: Class with Optional attributes\n",
    "class User:\n",
    "    def __init__(self, username: str, email: Optional[str] = None):\n",
    "        self.username = username\n",
    "        self.email = email\n",
    "\n",
    "\n",
    "# Usage examples:\n",
    "print(greet())  # Outputs: \"Hello, Guest!\"\n",
    "print(greet(\"Alice\"))  # Outputs: \"Hello, Alice!\"\n",
    "\n",
    "user1 = User(\"john_doe\")  # email is None\n",
    "print(user1.username, user1.email)  # Outputs: \"john_doe\"\n",
    "user2 = User(\"jane_doe\", \"jane@example.com\")  # email is provided\n",
    "\n",
    "print(user2.username, user2.email)  # Outputs: \"jane_doe\""
   ]
  },
  {
   "cell_type": "markdown",
   "id": "4e6ff398",
   "metadata": {},
   "source": [
    "* Properties:\n",
    "  * It quite similar as Union \n",
    "  * Optional is a special type hint that indicates a value can be either of a specified type or None. \n",
    "  * It's actually syntactic sugar for Union[Type, None]. It quite similar as Union\n",
    "  * it cannot be anything else except None or a type mentioned\n"
   ]
  },
  {
   "cell_type": "markdown",
   "id": "0b736d9f",
   "metadata": {},
   "source": [
    "### **4. Any**"
   ]
  },
  {
   "cell_type": "code",
   "execution_count": null,
   "id": "2eac366b",
   "metadata": {},
   "outputs": [
    {
     "name": "stdout",
     "output_type": "stream",
     "text": [
      "14\n",
      "Item is: [1, 2, 3]\n",
      "Processing complete.\n",
      "Item is: 15\n",
      "Added 10 to get: 25\n",
      "Processing complete.\n"
     ]
    }
   ],
   "source": [
    "from typing import Any\n",
    "\n",
    "def print_value(x: Any):\n",
    "    print(x)\n",
    "\n",
    "\n",
    "# This function accepts a value of 'Any' type but checks the type before operations\n",
    "def process_anything(item: Any) -> None:\n",
    "    print(f\"Item is: {item}\")\n",
    "\n",
    "    # Check if item is a sequence (list) before trying to modify it\n",
    "    if isinstance(item, list):\n",
    "        item[0] = \"new value\"\n",
    "\n",
    "    # Check if item is a number before arithmetic\n",
    "    if isinstance(item, (int, float)):\n",
    "        result = item + 10\n",
    "        print(f\"Added 10 to get: {result}\")\n",
    "\n",
    "    print(\"Processing complete.\")\n",
    "\n",
    "\n",
    "# Test with different types\n",
    "print_value(14)\n",
    "process_anything([1, 2, 3])  # Works with list\n",
    "process_anything(15)  # Works with number"
   ]
  },
  {
   "cell_type": "code",
   "execution_count": 33,
   "id": "9c0dab71",
   "metadata": {},
   "outputs": [
    {
     "name": "stdout",
     "output_type": "stream",
     "text": [
      "Item is: [1, 2, 3]\n",
      "1\n",
      "Item is: 5\n",
      "Item is: 10\n"
     ]
    }
   ],
   "source": [
    "from typing import Any\n",
    "\n",
    "\n",
    "def process_object(item: object) -> None:\n",
    "    print(f\"Item is: {item}\")\n",
    "    # item.do_a_dance() # This would be a type error! 'object' has no 'do_a_dance' method.\n",
    "\n",
    "    # To use it safely, you must check its type.\n",
    "    if isinstance(item, list):\n",
    "        print(item[0])  # OK, type checker knows it's a list inside this block.\n",
    "\n",
    "\n",
    "def process_any(item: Any) -> None:\n",
    "    print(f\"Item is: {item}\")\n",
    "\n",
    "# --- Calling the functions ---\n",
    "process_object([1, 2, 3])  # This is fine.\n",
    "process_object(5) # This is also fine, but you can't do much with it inside.\n",
    "\n",
    "process_any(10)  # This is fine for the type checker, but will fail at runtime."
   ]
  },
  {
   "cell_type": "markdown",
   "id": "403417ea",
   "metadata": {},
   "source": [
    "# Lambda function:"
   ]
  },
  {
   "cell_type": "code",
   "execution_count": 35,
   "id": "3ca2a341",
   "metadata": {},
   "outputs": [
    {
     "name": "stdout",
     "output_type": "stream",
     "text": [
      "25\n",
      "[1, 4, 9, 16, 25, 36, 49, 64, 81, 100]\n"
     ]
    }
   ],
   "source": [
    "square = lambda x: x ** 2\n",
    "print(square(5))\n",
    "\n",
    "numbers = [1, 2, 3, 4, 5, 6, 7, 8, 9, 10]\n",
    "squares = list(map(lambda x: x ** 2, numbers))\n",
    "print(squares)"
   ]
  },
  {
   "cell_type": "code",
   "execution_count": null,
   "id": "c0b53fc5",
   "metadata": {},
   "outputs": [],
   "source": []
  }
 ],
 "metadata": {
  "kernelspec": {
   "display_name": "venv",
   "language": "python",
   "name": "python3"
  },
  "language_info": {
   "codemirror_mode": {
    "name": "ipython",
    "version": 3
   },
   "file_extension": ".py",
   "mimetype": "text/x-python",
   "name": "python",
   "nbconvert_exporter": "python",
   "pygments_lexer": "ipython3",
   "version": "3.12.3"
  }
 },
 "nbformat": 4,
 "nbformat_minor": 5
}
